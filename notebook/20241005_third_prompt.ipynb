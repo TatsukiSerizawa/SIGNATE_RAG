{
 "cells": [
  {
   "cell_type": "markdown",
   "metadata": {},
   "source": [
    "# Third prompt\n",
    "\n",
    "長文は要約して出力した結果に対し、3つ目のプロンプトを追加し、コンテキストを元に文を作成できているかを判定する。"
   ]
  },
  {
   "cell_type": "code",
   "execution_count": 1,
   "metadata": {},
   "outputs": [],
   "source": [
    "import os\n",
    "import pandas as pd\n",
    "import openai\n",
    "import datetime\n",
    "import tiktoken\n",
    "from sudachipy import tokenizer\n",
    "from sudachipy import dictionary\n",
    "from langchain.embeddings import OpenAIEmbeddings\n",
    "from langchain.vectorstores import FAISS\n",
    "from langchain.llms import OpenAI\n",
    "from langchain.chat_models import ChatOpenAI\n",
    "from langchain.chains import RetrievalQA\n",
    "from langchain.prompts import PromptTemplate\n",
    "from langchain.document_loaders import TextLoader\n",
    "from langchain.text_splitter import CharacterTextSplitter\n",
    "from typing import List\n",
    "\n",
    "from langchain_core.output_parsers import BaseOutputParser\n",
    "from langchain_core.prompts import PromptTemplate\n",
    "from langchain.retrievers.multi_query import MultiQueryRetriever\n",
    "from pydantic import BaseModel, Field"
   ]
  },
  {
   "cell_type": "code",
   "execution_count": 2,
   "metadata": {},
   "outputs": [],
   "source": [
    "# OpenAI APIキーを設定\n",
    "openai.api_key = input()"
   ]
  },
  {
   "cell_type": "code",
   "execution_count": 3,
   "metadata": {},
   "outputs": [
    {
     "name": "stderr",
     "output_type": "stream",
     "text": [
      "C:\\Users\\tatsu\\AppData\\Local\\Temp\\ipykernel_38828\\1591884372.py:2: LangChainDeprecationWarning: The class `ChatOpenAI` was deprecated in LangChain 0.0.10 and will be removed in 1.0. An updated version of the class exists in the langchain-openai package and should be used instead. To use it run `pip install -U langchain-openai` and import as `from langchain_openai import ChatOpenAI`.\n",
      "  llm = ChatOpenAI(model=\"gpt-4o\", openai_api_key=openai.api_key)\n"
     ]
    }
   ],
   "source": [
    "# OpenAIの言語モデルを設定（ここではGPT-3を使用）\n",
    "llm = ChatOpenAI(model=\"gpt-4o\", openai_api_key=openai.api_key)"
   ]
  },
  {
   "cell_type": "markdown",
   "metadata": {},
   "source": [
    "## 回答ファイルを読み込む"
   ]
  },
  {
   "cell_type": "code",
   "execution_count": 4,
   "metadata": {},
   "outputs": [],
   "source": [
    "# 提供されたCSVファイルを読み込み\n",
    "query_df = pd.read_csv(\"../submit/20241005-0121_predictions.csv\", encoding=\"utf-8\")"
   ]
  },
  {
   "cell_type": "code",
   "execution_count": 6,
   "metadata": {},
   "outputs": [
    {
     "data": {
      "text/html": [
       "<div>\n",
       "<style scoped>\n",
       "    .dataframe tbody tr th:only-of-type {\n",
       "        vertical-align: middle;\n",
       "    }\n",
       "\n",
       "    .dataframe tbody tr th {\n",
       "        vertical-align: top;\n",
       "    }\n",
       "\n",
       "    .dataframe thead th {\n",
       "        text-align: right;\n",
       "    }\n",
       "</style>\n",
       "<table border=\"1\" class=\"dataframe\">\n",
       "  <thead>\n",
       "    <tr style=\"text-align: right;\">\n",
       "      <th></th>\n",
       "      <th>index</th>\n",
       "      <th>problem</th>\n",
       "      <th>full_answer</th>\n",
       "      <th>answer</th>\n",
       "      <th>evidence</th>\n",
       "    </tr>\n",
       "  </thead>\n",
       "  <tbody>\n",
       "    <tr>\n",
       "      <th>0</th>\n",
       "      <td>1</td>\n",
       "      <td>競漕会の三日前のレースコースでの結果は、農科と文科でどれくらいの秒数差があったか？</td>\n",
       "      <td>5秒の差がありました。</td>\n",
       "      <td>5秒の差がありました。</td>\n",
       "      <td>三 競漕の日はだんだん近づいて来る。 その一週間ほど前に学習院の競漕会があった。 それには文...</td>\n",
       "    </tr>\n",
       "    <tr>\n",
       "      <th>1</th>\n",
       "      <td>2</td>\n",
       "      <td>骸骨男の正体は誰ですか？作中で言及されている氏名で答えること。</td>\n",
       "      <td>笠原さんです。</td>\n",
       "      <td>笠原さんです。</td>\n",
       "      <td>「アッ、骸骨……。」 それは、あの骸骨男でした。 いつも着ているオーバーや洋服をぬいで、はだ...</td>\n",
       "    </tr>\n",
       "    <tr>\n",
       "      <th>2</th>\n",
       "      <td>3</td>\n",
       "      <td>骸骨男はバスの中に足跡を一切残さずにどうやって抜け出しましたか？</td>\n",
       "      <td>骸骨男は、バスの床板にあったばね仕掛けの落とし穴を使って抜け出しました。</td>\n",
       "      <td>骸骨男は、バスの床板にあったばね仕掛けの落とし穴を使って抜け出しました。</td>\n",
       "      <td>とつぶやいています。 「骸骨男がいなくなったのですか。」 井上君が、たずねます。 「うん、い...</td>\n",
       "    </tr>\n",
       "    <tr>\n",
       "      <th>3</th>\n",
       "      <td>4</td>\n",
       "      <td>殺人罪で裁判にかけられた兄が登場しますが、その理由は何ですか？</td>\n",
       "      <td>若い頃、兄は恋人と心中を図り、彼女を短刀で殺害したためです。</td>\n",
       "      <td>若い頃、兄は恋人と心中を図り、彼女を短刀で殺害したためです。</td>\n",
       "      <td>そして、仏様に捧げる祈りの文句を繰り返した。 木魚の音や読経は数時間続いた。 それらが終わっ...</td>\n",
       "    </tr>\n",
       "    <tr>\n",
       "      <th>4</th>\n",
       "      <td>5</td>\n",
       "      <td>小説「芽生」で出てくる国名は何種類ですか？</td>\n",
       "      <td>分かりません。</td>\n",
       "      <td>分かりません。</td>\n",
       "      <td>十の一 四月あまり過ぎたり。 霜に染みたる南天の影長々と庭に臥す午後四時過ぎ、相も変わらず肥...</td>\n",
       "    </tr>\n",
       "  </tbody>\n",
       "</table>\n",
       "</div>"
      ],
      "text/plain": [
       "   index                                    problem  \\\n",
       "0      1  競漕会の三日前のレースコースでの結果は、農科と文科でどれくらいの秒数差があったか？   \n",
       "1      2            骸骨男の正体は誰ですか？作中で言及されている氏名で答えること。   \n",
       "2      3           骸骨男はバスの中に足跡を一切残さずにどうやって抜け出しましたか？   \n",
       "3      4            殺人罪で裁判にかけられた兄が登場しますが、その理由は何ですか？   \n",
       "4      5                      小説「芽生」で出てくる国名は何種類ですか？   \n",
       "\n",
       "                            full_answer                                answer  \\\n",
       "0                           5秒の差がありました。                           5秒の差がありました。   \n",
       "1                               笠原さんです。                               笠原さんです。   \n",
       "2  骸骨男は、バスの床板にあったばね仕掛けの落とし穴を使って抜け出しました。  骸骨男は、バスの床板にあったばね仕掛けの落とし穴を使って抜け出しました。   \n",
       "3        若い頃、兄は恋人と心中を図り、彼女を短刀で殺害したためです。        若い頃、兄は恋人と心中を図り、彼女を短刀で殺害したためです。   \n",
       "4                               分かりません。                               分かりません。   \n",
       "\n",
       "                                            evidence  \n",
       "0  三 競漕の日はだんだん近づいて来る。 その一週間ほど前に学習院の競漕会があった。 それには文...  \n",
       "1  「アッ、骸骨……。」 それは、あの骸骨男でした。 いつも着ているオーバーや洋服をぬいで、はだ...  \n",
       "2  とつぶやいています。 「骸骨男がいなくなったのですか。」 井上君が、たずねます。 「うん、い...  \n",
       "3  そして、仏様に捧げる祈りの文句を繰り返した。 木魚の音や読経は数時間続いた。 それらが終わっ...  \n",
       "4  十の一 四月あまり過ぎたり。 霜に染みたる南天の影長々と庭に臥す午後四時過ぎ、相も変わらず肥...  "
      ]
     },
     "execution_count": 6,
     "metadata": {},
     "output_type": "execute_result"
    }
   ],
   "source": [
    "query_df.head()"
   ]
  },
  {
   "cell_type": "code",
   "execution_count": 7,
   "metadata": {},
   "outputs": [],
   "source": [
    "query_df = query_df.rename(columns={\"answer\": \"tmp_answer\"})"
   ]
  },
  {
   "cell_type": "code",
   "execution_count": 8,
   "metadata": {},
   "outputs": [
    {
     "data": {
      "text/plain": [
       "Index(['index', 'problem', 'full_answer', 'tmp_answer', 'evidence'], dtype='object')"
      ]
     },
     "execution_count": 8,
     "metadata": {},
     "output_type": "execute_result"
    }
   ],
   "source": [
    "query_df.columns"
   ]
  },
  {
   "cell_type": "code",
   "execution_count": 20,
   "metadata": {},
   "outputs": [],
   "source": [
    "# LLMを使って文章の修正を行う関数\n",
    "def check_answer(problem: str, tmp_answer: str, evidence: str) -> str:\n",
    "\n",
    "    check_prompt = PromptTemplate(\n",
    "        input_variables=[\"problem\", \"full_answer\", \"evidence\"],\n",
    "        template=\n",
    "            \"\"\"あなたは回答の確からしさを判定する優れたチェックシステムです。\n",
    "            問題に対し、仮の回答とその根拠が与えられています。\n",
    "            仮の回答が根拠から導き出せていない場合、「分かりません。」と回答してください。\n",
    "            それ以外の場合、仮の回答を1文字も変えずそのまま回答してください。\n",
    "\n",
    "                f\"問題: {problem}\\n\\n\"\n",
    "                f\"仮の回答: {tmp_answer}\\n\"\n",
    "                f\"根拠: {evidence}\\n\"\n",
    "            回答:\"\"\"\n",
    "    )\n",
    "    chain = check_prompt | llm\n",
    "\n",
    "    response = chain.invoke(\n",
    "        {\"problem\": problem, \"tmp_answer\": tmp_answer, \"evidence\": evidence}\n",
    "    )\n",
    "    return response.content"
   ]
  },
  {
   "cell_type": "code",
   "execution_count": 21,
   "metadata": {},
   "outputs": [],
   "source": [
    "def check_and_summarize_answers(query_df: pd.DataFrame) -> pd.DataFrame:\n",
    "    # \"answer\" 列に対して処理を適用\n",
    "    query_df[\"answer\"] = query_df[\"tmp_answer\"]\n",
    "    for i in range(len(query_df.index)):\n",
    "        print(i)\n",
    "        query_df[\"answer\"][i] = check_answer(query_df[\"problem\"][i], query_df[\"tmp_answer\"][i], query_df[\"evidence\"][i])\n",
    "        print(query_df[\"answer\"][i])\n",
    "    return query_df"
   ]
  },
  {
   "cell_type": "code",
   "execution_count": 22,
   "metadata": {},
   "outputs": [
    {
     "name": "stdout",
     "output_type": "stream",
     "text": [
      "0\n"
     ]
    },
    {
     "name": "stderr",
     "output_type": "stream",
     "text": [
      "C:\\Users\\tatsu\\AppData\\Local\\Temp\\ipykernel_38828\\1369155956.py:6: SettingWithCopyWarning: \n",
      "A value is trying to be set on a copy of a slice from a DataFrame\n",
      "\n",
      "See the caveats in the documentation: https://pandas.pydata.org/pandas-docs/stable/user_guide/indexing.html#returning-a-view-versus-a-copy\n",
      "  query_df[\"answer\"][i] = check_answer(query_df[\"problem\"][i], query_df[\"tmp_answer\"][i], query_df[\"evidence\"][i])\n"
     ]
    },
    {
     "name": "stdout",
     "output_type": "stream",
     "text": [
      "分かりません。\n",
      "1\n"
     ]
    },
    {
     "name": "stderr",
     "output_type": "stream",
     "text": [
      "C:\\Users\\tatsu\\AppData\\Local\\Temp\\ipykernel_38828\\1369155956.py:6: SettingWithCopyWarning: \n",
      "A value is trying to be set on a copy of a slice from a DataFrame\n",
      "\n",
      "See the caveats in the documentation: https://pandas.pydata.org/pandas-docs/stable/user_guide/indexing.html#returning-a-view-versus-a-copy\n",
      "  query_df[\"answer\"][i] = check_answer(query_df[\"problem\"][i], query_df[\"tmp_answer\"][i], query_df[\"evidence\"][i])\n"
     ]
    },
    {
     "name": "stdout",
     "output_type": "stream",
     "text": [
      "分かりません。\n",
      "2\n"
     ]
    },
    {
     "name": "stderr",
     "output_type": "stream",
     "text": [
      "C:\\Users\\tatsu\\AppData\\Local\\Temp\\ipykernel_38828\\1369155956.py:6: SettingWithCopyWarning: \n",
      "A value is trying to be set on a copy of a slice from a DataFrame\n",
      "\n",
      "See the caveats in the documentation: https://pandas.pydata.org/pandas-docs/stable/user_guide/indexing.html#returning-a-view-versus-a-copy\n",
      "  query_df[\"answer\"][i] = check_answer(query_df[\"problem\"][i], query_df[\"tmp_answer\"][i], query_df[\"evidence\"][i])\n"
     ]
    },
    {
     "name": "stdout",
     "output_type": "stream",
     "text": [
      "分かりません。\n",
      "3\n"
     ]
    },
    {
     "name": "stderr",
     "output_type": "stream",
     "text": [
      "C:\\Users\\tatsu\\AppData\\Local\\Temp\\ipykernel_38828\\1369155956.py:6: SettingWithCopyWarning: \n",
      "A value is trying to be set on a copy of a slice from a DataFrame\n",
      "\n",
      "See the caveats in the documentation: https://pandas.pydata.org/pandas-docs/stable/user_guide/indexing.html#returning-a-view-versus-a-copy\n",
      "  query_df[\"answer\"][i] = check_answer(query_df[\"problem\"][i], query_df[\"tmp_answer\"][i], query_df[\"evidence\"][i])\n"
     ]
    },
    {
     "name": "stdout",
     "output_type": "stream",
     "text": [
      "分かりません。\n",
      "4\n"
     ]
    },
    {
     "name": "stderr",
     "output_type": "stream",
     "text": [
      "C:\\Users\\tatsu\\AppData\\Local\\Temp\\ipykernel_38828\\1369155956.py:6: SettingWithCopyWarning: \n",
      "A value is trying to be set on a copy of a slice from a DataFrame\n",
      "\n",
      "See the caveats in the documentation: https://pandas.pydata.org/pandas-docs/stable/user_guide/indexing.html#returning-a-view-versus-a-copy\n",
      "  query_df[\"answer\"][i] = check_answer(query_df[\"problem\"][i], query_df[\"tmp_answer\"][i], query_df[\"evidence\"][i])\n"
     ]
    },
    {
     "name": "stdout",
     "output_type": "stream",
     "text": [
      "分かりません。\n",
      "5\n"
     ]
    },
    {
     "name": "stderr",
     "output_type": "stream",
     "text": [
      "C:\\Users\\tatsu\\AppData\\Local\\Temp\\ipykernel_38828\\1369155956.py:6: SettingWithCopyWarning: \n",
      "A value is trying to be set on a copy of a slice from a DataFrame\n",
      "\n",
      "See the caveats in the documentation: https://pandas.pydata.org/pandas-docs/stable/user_guide/indexing.html#returning-a-view-versus-a-copy\n",
      "  query_df[\"answer\"][i] = check_answer(query_df[\"problem\"][i], query_df[\"tmp_answer\"][i], query_df[\"evidence\"][i])\n"
     ]
    },
    {
     "name": "stdout",
     "output_type": "stream",
     "text": [
      "分かりません。\n",
      "6\n"
     ]
    },
    {
     "name": "stderr",
     "output_type": "stream",
     "text": [
      "C:\\Users\\tatsu\\AppData\\Local\\Temp\\ipykernel_38828\\1369155956.py:6: SettingWithCopyWarning: \n",
      "A value is trying to be set on a copy of a slice from a DataFrame\n",
      "\n",
      "See the caveats in the documentation: https://pandas.pydata.org/pandas-docs/stable/user_guide/indexing.html#returning-a-view-versus-a-copy\n",
      "  query_df[\"answer\"][i] = check_answer(query_df[\"problem\"][i], query_df[\"tmp_answer\"][i], query_df[\"evidence\"][i])\n"
     ]
    },
    {
     "name": "stdout",
     "output_type": "stream",
     "text": [
      "分かりません。\n",
      "7\n"
     ]
    },
    {
     "name": "stderr",
     "output_type": "stream",
     "text": [
      "C:\\Users\\tatsu\\AppData\\Local\\Temp\\ipykernel_38828\\1369155956.py:6: SettingWithCopyWarning: \n",
      "A value is trying to be set on a copy of a slice from a DataFrame\n",
      "\n",
      "See the caveats in the documentation: https://pandas.pydata.org/pandas-docs/stable/user_guide/indexing.html#returning-a-view-versus-a-copy\n",
      "  query_df[\"answer\"][i] = check_answer(query_df[\"problem\"][i], query_df[\"tmp_answer\"][i], query_df[\"evidence\"][i])\n"
     ]
    },
    {
     "name": "stdout",
     "output_type": "stream",
     "text": [
      "分かりません。\n",
      "8\n"
     ]
    },
    {
     "name": "stderr",
     "output_type": "stream",
     "text": [
      "C:\\Users\\tatsu\\AppData\\Local\\Temp\\ipykernel_38828\\1369155956.py:6: SettingWithCopyWarning: \n",
      "A value is trying to be set on a copy of a slice from a DataFrame\n",
      "\n",
      "See the caveats in the documentation: https://pandas.pydata.org/pandas-docs/stable/user_guide/indexing.html#returning-a-view-versus-a-copy\n",
      "  query_df[\"answer\"][i] = check_answer(query_df[\"problem\"][i], query_df[\"tmp_answer\"][i], query_df[\"evidence\"][i])\n"
     ]
    },
    {
     "name": "stdout",
     "output_type": "stream",
     "text": [
      "分かりません。\n",
      "9\n"
     ]
    },
    {
     "name": "stderr",
     "output_type": "stream",
     "text": [
      "C:\\Users\\tatsu\\AppData\\Local\\Temp\\ipykernel_38828\\1369155956.py:6: SettingWithCopyWarning: \n",
      "A value is trying to be set on a copy of a slice from a DataFrame\n",
      "\n",
      "See the caveats in the documentation: https://pandas.pydata.org/pandas-docs/stable/user_guide/indexing.html#returning-a-view-versus-a-copy\n",
      "  query_df[\"answer\"][i] = check_answer(query_df[\"problem\"][i], query_df[\"tmp_answer\"][i], query_df[\"evidence\"][i])\n"
     ]
    },
    {
     "name": "stdout",
     "output_type": "stream",
     "text": [
      "約七年が経過したと考えられます。\n",
      "10\n"
     ]
    },
    {
     "name": "stderr",
     "output_type": "stream",
     "text": [
      "C:\\Users\\tatsu\\AppData\\Local\\Temp\\ipykernel_38828\\1369155956.py:6: SettingWithCopyWarning: \n",
      "A value is trying to be set on a copy of a slice from a DataFrame\n",
      "\n",
      "See the caveats in the documentation: https://pandas.pydata.org/pandas-docs/stable/user_guide/indexing.html#returning-a-view-versus-a-copy\n",
      "  query_df[\"answer\"][i] = check_answer(query_df[\"problem\"][i], query_df[\"tmp_answer\"][i], query_df[\"evidence\"][i])\n"
     ]
    },
    {
     "name": "stdout",
     "output_type": "stream",
     "text": [
      "分かりません。\n",
      "11\n"
     ]
    },
    {
     "name": "stderr",
     "output_type": "stream",
     "text": [
      "C:\\Users\\tatsu\\AppData\\Local\\Temp\\ipykernel_38828\\1369155956.py:6: SettingWithCopyWarning: \n",
      "A value is trying to be set on a copy of a slice from a DataFrame\n",
      "\n",
      "See the caveats in the documentation: https://pandas.pydata.org/pandas-docs/stable/user_guide/indexing.html#returning-a-view-versus-a-copy\n",
      "  query_df[\"answer\"][i] = check_answer(query_df[\"problem\"][i], query_df[\"tmp_answer\"][i], query_df[\"evidence\"][i])\n"
     ]
    },
    {
     "name": "stdout",
     "output_type": "stream",
     "text": [
      "3匹です。\n",
      "12\n"
     ]
    },
    {
     "name": "stderr",
     "output_type": "stream",
     "text": [
      "C:\\Users\\tatsu\\AppData\\Local\\Temp\\ipykernel_38828\\1369155956.py:6: SettingWithCopyWarning: \n",
      "A value is trying to be set on a copy of a slice from a DataFrame\n",
      "\n",
      "See the caveats in the documentation: https://pandas.pydata.org/pandas-docs/stable/user_guide/indexing.html#returning-a-view-versus-a-copy\n",
      "  query_df[\"answer\"][i] = check_answer(query_df[\"problem\"][i], query_df[\"tmp_answer\"][i], query_df[\"evidence\"][i])\n"
     ]
    },
    {
     "name": "stdout",
     "output_type": "stream",
     "text": [
      "分かりません。\n",
      "13\n"
     ]
    },
    {
     "name": "stderr",
     "output_type": "stream",
     "text": [
      "C:\\Users\\tatsu\\AppData\\Local\\Temp\\ipykernel_38828\\1369155956.py:6: SettingWithCopyWarning: \n",
      "A value is trying to be set on a copy of a slice from a DataFrame\n",
      "\n",
      "See the caveats in the documentation: https://pandas.pydata.org/pandas-docs/stable/user_guide/indexing.html#returning-a-view-versus-a-copy\n",
      "  query_df[\"answer\"][i] = check_answer(query_df[\"problem\"][i], query_df[\"tmp_answer\"][i], query_df[\"evidence\"][i])\n"
     ]
    },
    {
     "name": "stdout",
     "output_type": "stream",
     "text": [
      "分かりません。\n",
      "14\n"
     ]
    },
    {
     "name": "stderr",
     "output_type": "stream",
     "text": [
      "C:\\Users\\tatsu\\AppData\\Local\\Temp\\ipykernel_38828\\1369155956.py:6: SettingWithCopyWarning: \n",
      "A value is trying to be set on a copy of a slice from a DataFrame\n",
      "\n",
      "See the caveats in the documentation: https://pandas.pydata.org/pandas-docs/stable/user_guide/indexing.html#returning-a-view-versus-a-copy\n",
      "  query_df[\"answer\"][i] = check_answer(query_df[\"problem\"][i], query_df[\"tmp_answer\"][i], query_df[\"evidence\"][i])\n"
     ]
    },
    {
     "name": "stdout",
     "output_type": "stream",
     "text": [
      "分かりません。\n",
      "15\n"
     ]
    },
    {
     "name": "stderr",
     "output_type": "stream",
     "text": [
      "C:\\Users\\tatsu\\AppData\\Local\\Temp\\ipykernel_38828\\1369155956.py:6: SettingWithCopyWarning: \n",
      "A value is trying to be set on a copy of a slice from a DataFrame\n",
      "\n",
      "See the caveats in the documentation: https://pandas.pydata.org/pandas-docs/stable/user_guide/indexing.html#returning-a-view-versus-a-copy\n",
      "  query_df[\"answer\"][i] = check_answer(query_df[\"problem\"][i], query_df[\"tmp_answer\"][i], query_df[\"evidence\"][i])\n"
     ]
    },
    {
     "name": "stdout",
     "output_type": "stream",
     "text": [
      "濃紺、紫、バラ色、薄青、パールグレイ。\n",
      "16\n"
     ]
    },
    {
     "name": "stderr",
     "output_type": "stream",
     "text": [
      "C:\\Users\\tatsu\\AppData\\Local\\Temp\\ipykernel_38828\\1369155956.py:6: SettingWithCopyWarning: \n",
      "A value is trying to be set on a copy of a slice from a DataFrame\n",
      "\n",
      "See the caveats in the documentation: https://pandas.pydata.org/pandas-docs/stable/user_guide/indexing.html#returning-a-view-versus-a-copy\n",
      "  query_df[\"answer\"][i] = check_answer(query_df[\"problem\"][i], query_df[\"tmp_answer\"][i], query_df[\"evidence\"][i])\n"
     ]
    },
    {
     "name": "stdout",
     "output_type": "stream",
     "text": [
      "分かりません。\n",
      "17\n"
     ]
    },
    {
     "name": "stderr",
     "output_type": "stream",
     "text": [
      "C:\\Users\\tatsu\\AppData\\Local\\Temp\\ipykernel_38828\\1369155956.py:6: SettingWithCopyWarning: \n",
      "A value is trying to be set on a copy of a slice from a DataFrame\n",
      "\n",
      "See the caveats in the documentation: https://pandas.pydata.org/pandas-docs/stable/user_guide/indexing.html#returning-a-view-versus-a-copy\n",
      "  query_df[\"answer\"][i] = check_answer(query_df[\"problem\"][i], query_df[\"tmp_answer\"][i], query_df[\"evidence\"][i])\n"
     ]
    },
    {
     "name": "stdout",
     "output_type": "stream",
     "text": [
      "分かりません。\n",
      "18\n"
     ]
    },
    {
     "name": "stderr",
     "output_type": "stream",
     "text": [
      "C:\\Users\\tatsu\\AppData\\Local\\Temp\\ipykernel_38828\\1369155956.py:6: SettingWithCopyWarning: \n",
      "A value is trying to be set on a copy of a slice from a DataFrame\n",
      "\n",
      "See the caveats in the documentation: https://pandas.pydata.org/pandas-docs/stable/user_guide/indexing.html#returning-a-view-versus-a-copy\n",
      "  query_df[\"answer\"][i] = check_answer(query_df[\"problem\"][i], query_df[\"tmp_answer\"][i], query_df[\"evidence\"][i])\n"
     ]
    },
    {
     "name": "stdout",
     "output_type": "stream",
     "text": [
      "分かりません。\n",
      "19\n"
     ]
    },
    {
     "name": "stderr",
     "output_type": "stream",
     "text": [
      "C:\\Users\\tatsu\\AppData\\Local\\Temp\\ipykernel_38828\\1369155956.py:6: SettingWithCopyWarning: \n",
      "A value is trying to be set on a copy of a slice from a DataFrame\n",
      "\n",
      "See the caveats in the documentation: https://pandas.pydata.org/pandas-docs/stable/user_guide/indexing.html#returning-a-view-versus-a-copy\n",
      "  query_df[\"answer\"][i] = check_answer(query_df[\"problem\"][i], query_df[\"tmp_answer\"][i], query_df[\"evidence\"][i])\n"
     ]
    },
    {
     "name": "stdout",
     "output_type": "stream",
     "text": [
      "分かりません。\n",
      "20\n"
     ]
    },
    {
     "name": "stderr",
     "output_type": "stream",
     "text": [
      "C:\\Users\\tatsu\\AppData\\Local\\Temp\\ipykernel_38828\\1369155956.py:6: SettingWithCopyWarning: \n",
      "A value is trying to be set on a copy of a slice from a DataFrame\n",
      "\n",
      "See the caveats in the documentation: https://pandas.pydata.org/pandas-docs/stable/user_guide/indexing.html#returning-a-view-versus-a-copy\n",
      "  query_df[\"answer\"][i] = check_answer(query_df[\"problem\"][i], query_df[\"tmp_answer\"][i], query_df[\"evidence\"][i])\n"
     ]
    },
    {
     "name": "stdout",
     "output_type": "stream",
     "text": [
      "分かりません。\n",
      "21\n"
     ]
    },
    {
     "name": "stderr",
     "output_type": "stream",
     "text": [
      "C:\\Users\\tatsu\\AppData\\Local\\Temp\\ipykernel_38828\\1369155956.py:6: SettingWithCopyWarning: \n",
      "A value is trying to be set on a copy of a slice from a DataFrame\n",
      "\n",
      "See the caveats in the documentation: https://pandas.pydata.org/pandas-docs/stable/user_guide/indexing.html#returning-a-view-versus-a-copy\n",
      "  query_df[\"answer\"][i] = check_answer(query_df[\"problem\"][i], query_df[\"tmp_answer\"][i], query_df[\"evidence\"][i])\n"
     ]
    },
    {
     "name": "stdout",
     "output_type": "stream",
     "text": [
      "分かりません。\n",
      "22\n"
     ]
    },
    {
     "name": "stderr",
     "output_type": "stream",
     "text": [
      "C:\\Users\\tatsu\\AppData\\Local\\Temp\\ipykernel_38828\\1369155956.py:6: SettingWithCopyWarning: \n",
      "A value is trying to be set on a copy of a slice from a DataFrame\n",
      "\n",
      "See the caveats in the documentation: https://pandas.pydata.org/pandas-docs/stable/user_guide/indexing.html#returning-a-view-versus-a-copy\n",
      "  query_df[\"answer\"][i] = check_answer(query_df[\"problem\"][i], query_df[\"tmp_answer\"][i], query_df[\"evidence\"][i])\n"
     ]
    },
    {
     "name": "stdout",
     "output_type": "stream",
     "text": [
      "分かりません。\n",
      "23\n"
     ]
    },
    {
     "name": "stderr",
     "output_type": "stream",
     "text": [
      "C:\\Users\\tatsu\\AppData\\Local\\Temp\\ipykernel_38828\\1369155956.py:6: SettingWithCopyWarning: \n",
      "A value is trying to be set on a copy of a slice from a DataFrame\n",
      "\n",
      "See the caveats in the documentation: https://pandas.pydata.org/pandas-docs/stable/user_guide/indexing.html#returning-a-view-versus-a-copy\n",
      "  query_df[\"answer\"][i] = check_answer(query_df[\"problem\"][i], query_df[\"tmp_answer\"][i], query_df[\"evidence\"][i])\n"
     ]
    },
    {
     "name": "stdout",
     "output_type": "stream",
     "text": [
      "分かりません。\n",
      "24\n"
     ]
    },
    {
     "name": "stderr",
     "output_type": "stream",
     "text": [
      "C:\\Users\\tatsu\\AppData\\Local\\Temp\\ipykernel_38828\\1369155956.py:6: SettingWithCopyWarning: \n",
      "A value is trying to be set on a copy of a slice from a DataFrame\n",
      "\n",
      "See the caveats in the documentation: https://pandas.pydata.org/pandas-docs/stable/user_guide/indexing.html#returning-a-view-versus-a-copy\n",
      "  query_df[\"answer\"][i] = check_answer(query_df[\"problem\"][i], query_df[\"tmp_answer\"][i], query_df[\"evidence\"][i])\n"
     ]
    },
    {
     "name": "stdout",
     "output_type": "stream",
     "text": [
      "分かりません。\n",
      "25\n"
     ]
    },
    {
     "name": "stderr",
     "output_type": "stream",
     "text": [
      "C:\\Users\\tatsu\\AppData\\Local\\Temp\\ipykernel_38828\\1369155956.py:6: SettingWithCopyWarning: \n",
      "A value is trying to be set on a copy of a slice from a DataFrame\n",
      "\n",
      "See the caveats in the documentation: https://pandas.pydata.org/pandas-docs/stable/user_guide/indexing.html#returning-a-view-versus-a-copy\n",
      "  query_df[\"answer\"][i] = check_answer(query_df[\"problem\"][i], query_df[\"tmp_answer\"][i], query_df[\"evidence\"][i])\n"
     ]
    },
    {
     "name": "stdout",
     "output_type": "stream",
     "text": [
      "正一君が骸骨男にさらわれました。\n",
      "26\n"
     ]
    },
    {
     "name": "stderr",
     "output_type": "stream",
     "text": [
      "C:\\Users\\tatsu\\AppData\\Local\\Temp\\ipykernel_38828\\1369155956.py:6: SettingWithCopyWarning: \n",
      "A value is trying to be set on a copy of a slice from a DataFrame\n",
      "\n",
      "See the caveats in the documentation: https://pandas.pydata.org/pandas-docs/stable/user_guide/indexing.html#returning-a-view-versus-a-copy\n",
      "  query_df[\"answer\"][i] = check_answer(query_df[\"problem\"][i], query_df[\"tmp_answer\"][i], query_df[\"evidence\"][i])\n"
     ]
    },
    {
     "name": "stdout",
     "output_type": "stream",
     "text": [
      "分かりません。\n",
      "27\n"
     ]
    },
    {
     "name": "stderr",
     "output_type": "stream",
     "text": [
      "C:\\Users\\tatsu\\AppData\\Local\\Temp\\ipykernel_38828\\1369155956.py:6: SettingWithCopyWarning: \n",
      "A value is trying to be set on a copy of a slice from a DataFrame\n",
      "\n",
      "See the caveats in the documentation: https://pandas.pydata.org/pandas-docs/stable/user_guide/indexing.html#returning-a-view-versus-a-copy\n",
      "  query_df[\"answer\"][i] = check_answer(query_df[\"problem\"][i], query_df[\"tmp_answer\"][i], query_df[\"evidence\"][i])\n"
     ]
    },
    {
     "name": "stdout",
     "output_type": "stream",
     "text": [
      "分かりません。\n",
      "28\n"
     ]
    },
    {
     "name": "stderr",
     "output_type": "stream",
     "text": [
      "C:\\Users\\tatsu\\AppData\\Local\\Temp\\ipykernel_38828\\1369155956.py:6: SettingWithCopyWarning: \n",
      "A value is trying to be set on a copy of a slice from a DataFrame\n",
      "\n",
      "See the caveats in the documentation: https://pandas.pydata.org/pandas-docs/stable/user_guide/indexing.html#returning-a-view-versus-a-copy\n",
      "  query_df[\"answer\"][i] = check_answer(query_df[\"problem\"][i], query_df[\"tmp_answer\"][i], query_df[\"evidence\"][i])\n"
     ]
    },
    {
     "name": "stdout",
     "output_type": "stream",
     "text": [
      "分かりません。\n",
      "29\n"
     ]
    },
    {
     "name": "stderr",
     "output_type": "stream",
     "text": [
      "C:\\Users\\tatsu\\AppData\\Local\\Temp\\ipykernel_38828\\1369155956.py:6: SettingWithCopyWarning: \n",
      "A value is trying to be set on a copy of a slice from a DataFrame\n",
      "\n",
      "See the caveats in the documentation: https://pandas.pydata.org/pandas-docs/stable/user_guide/indexing.html#returning-a-view-versus-a-copy\n",
      "  query_df[\"answer\"][i] = check_answer(query_df[\"problem\"][i], query_df[\"tmp_answer\"][i], query_df[\"evidence\"][i])\n"
     ]
    },
    {
     "name": "stdout",
     "output_type": "stream",
     "text": [
      "分かりません。\n",
      "30\n"
     ]
    },
    {
     "name": "stderr",
     "output_type": "stream",
     "text": [
      "C:\\Users\\tatsu\\AppData\\Local\\Temp\\ipykernel_38828\\1369155956.py:6: SettingWithCopyWarning: \n",
      "A value is trying to be set on a copy of a slice from a DataFrame\n",
      "\n",
      "See the caveats in the documentation: https://pandas.pydata.org/pandas-docs/stable/user_guide/indexing.html#returning-a-view-versus-a-copy\n",
      "  query_df[\"answer\"][i] = check_answer(query_df[\"problem\"][i], query_df[\"tmp_answer\"][i], query_df[\"evidence\"][i])\n"
     ]
    },
    {
     "name": "stdout",
     "output_type": "stream",
     "text": [
      "分かりません。\n",
      "31\n"
     ]
    },
    {
     "name": "stderr",
     "output_type": "stream",
     "text": [
      "C:\\Users\\tatsu\\AppData\\Local\\Temp\\ipykernel_38828\\1369155956.py:6: SettingWithCopyWarning: \n",
      "A value is trying to be set on a copy of a slice from a DataFrame\n",
      "\n",
      "See the caveats in the documentation: https://pandas.pydata.org/pandas-docs/stable/user_guide/indexing.html#returning-a-view-versus-a-copy\n",
      "  query_df[\"answer\"][i] = check_answer(query_df[\"problem\"][i], query_df[\"tmp_answer\"][i], query_df[\"evidence\"][i])\n"
     ]
    },
    {
     "name": "stdout",
     "output_type": "stream",
     "text": [
      "7月に井戸の掃除が行われたようです。\n",
      "32\n"
     ]
    },
    {
     "name": "stderr",
     "output_type": "stream",
     "text": [
      "C:\\Users\\tatsu\\AppData\\Local\\Temp\\ipykernel_38828\\1369155956.py:6: SettingWithCopyWarning: \n",
      "A value is trying to be set on a copy of a slice from a DataFrame\n",
      "\n",
      "See the caveats in the documentation: https://pandas.pydata.org/pandas-docs/stable/user_guide/indexing.html#returning-a-view-versus-a-copy\n",
      "  query_df[\"answer\"][i] = check_answer(query_df[\"problem\"][i], query_df[\"tmp_answer\"][i], query_df[\"evidence\"][i])\n"
     ]
    },
    {
     "name": "stdout",
     "output_type": "stream",
     "text": [
      "分かりません。\n",
      "33\n"
     ]
    },
    {
     "name": "stderr",
     "output_type": "stream",
     "text": [
      "C:\\Users\\tatsu\\AppData\\Local\\Temp\\ipykernel_38828\\1369155956.py:6: SettingWithCopyWarning: \n",
      "A value is trying to be set on a copy of a slice from a DataFrame\n",
      "\n",
      "See the caveats in the documentation: https://pandas.pydata.org/pandas-docs/stable/user_guide/indexing.html#returning-a-view-versus-a-copy\n",
      "  query_df[\"answer\"][i] = check_answer(query_df[\"problem\"][i], query_df[\"tmp_answer\"][i], query_df[\"evidence\"][i])\n"
     ]
    },
    {
     "name": "stdout",
     "output_type": "stream",
     "text": [
      "分かりません。\n",
      "34\n"
     ]
    },
    {
     "name": "stderr",
     "output_type": "stream",
     "text": [
      "C:\\Users\\tatsu\\AppData\\Local\\Temp\\ipykernel_38828\\1369155956.py:6: SettingWithCopyWarning: \n",
      "A value is trying to be set on a copy of a slice from a DataFrame\n",
      "\n",
      "See the caveats in the documentation: https://pandas.pydata.org/pandas-docs/stable/user_guide/indexing.html#returning-a-view-versus-a-copy\n",
      "  query_df[\"answer\"][i] = check_answer(query_df[\"problem\"][i], query_df[\"tmp_answer\"][i], query_df[\"evidence\"][i])\n"
     ]
    },
    {
     "name": "stdout",
     "output_type": "stream",
     "text": [
      "分かりません。\n",
      "35\n"
     ]
    },
    {
     "name": "stderr",
     "output_type": "stream",
     "text": [
      "C:\\Users\\tatsu\\AppData\\Local\\Temp\\ipykernel_38828\\1369155956.py:6: SettingWithCopyWarning: \n",
      "A value is trying to be set on a copy of a slice from a DataFrame\n",
      "\n",
      "See the caveats in the documentation: https://pandas.pydata.org/pandas-docs/stable/user_guide/indexing.html#returning-a-view-versus-a-copy\n",
      "  query_df[\"answer\"][i] = check_answer(query_df[\"problem\"][i], query_df[\"tmp_answer\"][i], query_df[\"evidence\"][i])\n"
     ]
    },
    {
     "name": "stdout",
     "output_type": "stream",
     "text": [
      "分かりません。\n",
      "36\n"
     ]
    },
    {
     "name": "stderr",
     "output_type": "stream",
     "text": [
      "C:\\Users\\tatsu\\AppData\\Local\\Temp\\ipykernel_38828\\1369155956.py:6: SettingWithCopyWarning: \n",
      "A value is trying to be set on a copy of a slice from a DataFrame\n",
      "\n",
      "See the caveats in the documentation: https://pandas.pydata.org/pandas-docs/stable/user_guide/indexing.html#returning-a-view-versus-a-copy\n",
      "  query_df[\"answer\"][i] = check_answer(query_df[\"problem\"][i], query_df[\"tmp_answer\"][i], query_df[\"evidence\"][i])\n"
     ]
    },
    {
     "name": "stdout",
     "output_type": "stream",
     "text": [
      "分かりません。\n",
      "37\n"
     ]
    },
    {
     "name": "stderr",
     "output_type": "stream",
     "text": [
      "C:\\Users\\tatsu\\AppData\\Local\\Temp\\ipykernel_38828\\1369155956.py:6: SettingWithCopyWarning: \n",
      "A value is trying to be set on a copy of a slice from a DataFrame\n",
      "\n",
      "See the caveats in the documentation: https://pandas.pydata.org/pandas-docs/stable/user_guide/indexing.html#returning-a-view-versus-a-copy\n",
      "  query_df[\"answer\"][i] = check_answer(query_df[\"problem\"][i], query_df[\"tmp_answer\"][i], query_df[\"evidence\"][i])\n"
     ]
    },
    {
     "name": "stdout",
     "output_type": "stream",
     "text": [
      "分かりません。\n",
      "38\n"
     ]
    },
    {
     "name": "stderr",
     "output_type": "stream",
     "text": [
      "C:\\Users\\tatsu\\AppData\\Local\\Temp\\ipykernel_38828\\1369155956.py:6: SettingWithCopyWarning: \n",
      "A value is trying to be set on a copy of a slice from a DataFrame\n",
      "\n",
      "See the caveats in the documentation: https://pandas.pydata.org/pandas-docs/stable/user_guide/indexing.html#returning-a-view-versus-a-copy\n",
      "  query_df[\"answer\"][i] = check_answer(query_df[\"problem\"][i], query_df[\"tmp_answer\"][i], query_df[\"evidence\"][i])\n"
     ]
    },
    {
     "name": "stdout",
     "output_type": "stream",
     "text": [
      "分かりません。\n",
      "39\n"
     ]
    },
    {
     "name": "stderr",
     "output_type": "stream",
     "text": [
      "C:\\Users\\tatsu\\AppData\\Local\\Temp\\ipykernel_38828\\1369155956.py:6: SettingWithCopyWarning: \n",
      "A value is trying to be set on a copy of a slice from a DataFrame\n",
      "\n",
      "See the caveats in the documentation: https://pandas.pydata.org/pandas-docs/stable/user_guide/indexing.html#returning-a-view-versus-a-copy\n",
      "  query_df[\"answer\"][i] = check_answer(query_df[\"problem\"][i], query_df[\"tmp_answer\"][i], query_df[\"evidence\"][i])\n"
     ]
    },
    {
     "name": "stdout",
     "output_type": "stream",
     "text": [
      "分かりません。\n",
      "40\n"
     ]
    },
    {
     "name": "stderr",
     "output_type": "stream",
     "text": [
      "C:\\Users\\tatsu\\AppData\\Local\\Temp\\ipykernel_38828\\1369155956.py:6: SettingWithCopyWarning: \n",
      "A value is trying to be set on a copy of a slice from a DataFrame\n",
      "\n",
      "See the caveats in the documentation: https://pandas.pydata.org/pandas-docs/stable/user_guide/indexing.html#returning-a-view-versus-a-copy\n",
      "  query_df[\"answer\"][i] = check_answer(query_df[\"problem\"][i], query_df[\"tmp_answer\"][i], query_df[\"evidence\"][i])\n"
     ]
    },
    {
     "name": "stdout",
     "output_type": "stream",
     "text": [
      "分かりません。\n",
      "41\n"
     ]
    },
    {
     "name": "stderr",
     "output_type": "stream",
     "text": [
      "C:\\Users\\tatsu\\AppData\\Local\\Temp\\ipykernel_38828\\1369155956.py:6: SettingWithCopyWarning: \n",
      "A value is trying to be set on a copy of a slice from a DataFrame\n",
      "\n",
      "See the caveats in the documentation: https://pandas.pydata.org/pandas-docs/stable/user_guide/indexing.html#returning-a-view-versus-a-copy\n",
      "  query_df[\"answer\"][i] = check_answer(query_df[\"problem\"][i], query_df[\"tmp_answer\"][i], query_df[\"evidence\"][i])\n"
     ]
    },
    {
     "name": "stdout",
     "output_type": "stream",
     "text": [
      "分かりません。\n",
      "42\n"
     ]
    },
    {
     "name": "stderr",
     "output_type": "stream",
     "text": [
      "C:\\Users\\tatsu\\AppData\\Local\\Temp\\ipykernel_38828\\1369155956.py:6: SettingWithCopyWarning: \n",
      "A value is trying to be set on a copy of a slice from a DataFrame\n",
      "\n",
      "See the caveats in the documentation: https://pandas.pydata.org/pandas-docs/stable/user_guide/indexing.html#returning-a-view-versus-a-copy\n",
      "  query_df[\"answer\"][i] = check_answer(query_df[\"problem\"][i], query_df[\"tmp_answer\"][i], query_df[\"evidence\"][i])\n"
     ]
    },
    {
     "name": "stdout",
     "output_type": "stream",
     "text": [
      "分かりません。\n",
      "43\n"
     ]
    },
    {
     "name": "stderr",
     "output_type": "stream",
     "text": [
      "C:\\Users\\tatsu\\AppData\\Local\\Temp\\ipykernel_38828\\1369155956.py:6: SettingWithCopyWarning: \n",
      "A value is trying to be set on a copy of a slice from a DataFrame\n",
      "\n",
      "See the caveats in the documentation: https://pandas.pydata.org/pandas-docs/stable/user_guide/indexing.html#returning-a-view-versus-a-copy\n",
      "  query_df[\"answer\"][i] = check_answer(query_df[\"problem\"][i], query_df[\"tmp_answer\"][i], query_df[\"evidence\"][i])\n"
     ]
    },
    {
     "name": "stdout",
     "output_type": "stream",
     "text": [
      "分かりません。\n",
      "44\n"
     ]
    },
    {
     "name": "stderr",
     "output_type": "stream",
     "text": [
      "C:\\Users\\tatsu\\AppData\\Local\\Temp\\ipykernel_38828\\1369155956.py:6: SettingWithCopyWarning: \n",
      "A value is trying to be set on a copy of a slice from a DataFrame\n",
      "\n",
      "See the caveats in the documentation: https://pandas.pydata.org/pandas-docs/stable/user_guide/indexing.html#returning-a-view-versus-a-copy\n",
      "  query_df[\"answer\"][i] = check_answer(query_df[\"problem\"][i], query_df[\"tmp_answer\"][i], query_df[\"evidence\"][i])\n"
     ]
    },
    {
     "name": "stdout",
     "output_type": "stream",
     "text": [
      "分かりません。\n",
      "45\n"
     ]
    },
    {
     "name": "stderr",
     "output_type": "stream",
     "text": [
      "C:\\Users\\tatsu\\AppData\\Local\\Temp\\ipykernel_38828\\1369155956.py:6: SettingWithCopyWarning: \n",
      "A value is trying to be set on a copy of a slice from a DataFrame\n",
      "\n",
      "See the caveats in the documentation: https://pandas.pydata.org/pandas-docs/stable/user_guide/indexing.html#returning-a-view-versus-a-copy\n",
      "  query_df[\"answer\"][i] = check_answer(query_df[\"problem\"][i], query_df[\"tmp_answer\"][i], query_df[\"evidence\"][i])\n"
     ]
    },
    {
     "name": "stdout",
     "output_type": "stream",
     "text": [
      "分かりません。\n",
      "46\n"
     ]
    },
    {
     "name": "stderr",
     "output_type": "stream",
     "text": [
      "C:\\Users\\tatsu\\AppData\\Local\\Temp\\ipykernel_38828\\1369155956.py:6: SettingWithCopyWarning: \n",
      "A value is trying to be set on a copy of a slice from a DataFrame\n",
      "\n",
      "See the caveats in the documentation: https://pandas.pydata.org/pandas-docs/stable/user_guide/indexing.html#returning-a-view-versus-a-copy\n",
      "  query_df[\"answer\"][i] = check_answer(query_df[\"problem\"][i], query_df[\"tmp_answer\"][i], query_df[\"evidence\"][i])\n"
     ]
    },
    {
     "name": "stdout",
     "output_type": "stream",
     "text": [
      "分かりません。\n",
      "47\n"
     ]
    },
    {
     "name": "stderr",
     "output_type": "stream",
     "text": [
      "C:\\Users\\tatsu\\AppData\\Local\\Temp\\ipykernel_38828\\1369155956.py:6: SettingWithCopyWarning: \n",
      "A value is trying to be set on a copy of a slice from a DataFrame\n",
      "\n",
      "See the caveats in the documentation: https://pandas.pydata.org/pandas-docs/stable/user_guide/indexing.html#returning-a-view-versus-a-copy\n",
      "  query_df[\"answer\"][i] = check_answer(query_df[\"problem\"][i], query_df[\"tmp_answer\"][i], query_df[\"evidence\"][i])\n"
     ]
    },
    {
     "name": "stdout",
     "output_type": "stream",
     "text": [
      "分かりません。\n",
      "48\n"
     ]
    },
    {
     "name": "stderr",
     "output_type": "stream",
     "text": [
      "C:\\Users\\tatsu\\AppData\\Local\\Temp\\ipykernel_38828\\1369155956.py:6: SettingWithCopyWarning: \n",
      "A value is trying to be set on a copy of a slice from a DataFrame\n",
      "\n",
      "See the caveats in the documentation: https://pandas.pydata.org/pandas-docs/stable/user_guide/indexing.html#returning-a-view-versus-a-copy\n",
      "  query_df[\"answer\"][i] = check_answer(query_df[\"problem\"][i], query_df[\"tmp_answer\"][i], query_df[\"evidence\"][i])\n"
     ]
    },
    {
     "name": "stdout",
     "output_type": "stream",
     "text": [
      "婦人は十八歳から十九歳くらいだと描写されています。\n",
      "49\n"
     ]
    },
    {
     "name": "stderr",
     "output_type": "stream",
     "text": [
      "C:\\Users\\tatsu\\AppData\\Local\\Temp\\ipykernel_38828\\1369155956.py:6: SettingWithCopyWarning: \n",
      "A value is trying to be set on a copy of a slice from a DataFrame\n",
      "\n",
      "See the caveats in the documentation: https://pandas.pydata.org/pandas-docs/stable/user_guide/indexing.html#returning-a-view-versus-a-copy\n",
      "  query_df[\"answer\"][i] = check_answer(query_df[\"problem\"][i], query_df[\"tmp_answer\"][i], query_df[\"evidence\"][i])\n"
     ]
    },
    {
     "name": "stdout",
     "output_type": "stream",
     "text": [
      "分かりません。\n",
      "50\n"
     ]
    },
    {
     "name": "stderr",
     "output_type": "stream",
     "text": [
      "C:\\Users\\tatsu\\AppData\\Local\\Temp\\ipykernel_38828\\1369155956.py:6: SettingWithCopyWarning: \n",
      "A value is trying to be set on a copy of a slice from a DataFrame\n",
      "\n",
      "See the caveats in the documentation: https://pandas.pydata.org/pandas-docs/stable/user_guide/indexing.html#returning-a-view-versus-a-copy\n",
      "  query_df[\"answer\"][i] = check_answer(query_df[\"problem\"][i], query_df[\"tmp_answer\"][i], query_df[\"evidence\"][i])\n"
     ]
    },
    {
     "name": "stdout",
     "output_type": "stream",
     "text": [
      "分かりません。\n",
      "51\n"
     ]
    },
    {
     "name": "stderr",
     "output_type": "stream",
     "text": [
      "C:\\Users\\tatsu\\AppData\\Local\\Temp\\ipykernel_38828\\1369155956.py:6: SettingWithCopyWarning: \n",
      "A value is trying to be set on a copy of a slice from a DataFrame\n",
      "\n",
      "See the caveats in the documentation: https://pandas.pydata.org/pandas-docs/stable/user_guide/indexing.html#returning-a-view-versus-a-copy\n",
      "  query_df[\"answer\"][i] = check_answer(query_df[\"problem\"][i], query_df[\"tmp_answer\"][i], query_df[\"evidence\"][i])\n"
     ]
    },
    {
     "name": "stdout",
     "output_type": "stream",
     "text": [
      "分かりません。\n",
      "52\n"
     ]
    },
    {
     "name": "stderr",
     "output_type": "stream",
     "text": [
      "C:\\Users\\tatsu\\AppData\\Local\\Temp\\ipykernel_38828\\1369155956.py:6: SettingWithCopyWarning: \n",
      "A value is trying to be set on a copy of a slice from a DataFrame\n",
      "\n",
      "See the caveats in the documentation: https://pandas.pydata.org/pandas-docs/stable/user_guide/indexing.html#returning-a-view-versus-a-copy\n",
      "  query_df[\"answer\"][i] = check_answer(query_df[\"problem\"][i], query_df[\"tmp_answer\"][i], query_df[\"evidence\"][i])\n"
     ]
    },
    {
     "name": "stdout",
     "output_type": "stream",
     "text": [
      "分かりません。\n",
      "53\n"
     ]
    },
    {
     "name": "stderr",
     "output_type": "stream",
     "text": [
      "C:\\Users\\tatsu\\AppData\\Local\\Temp\\ipykernel_38828\\1369155956.py:6: SettingWithCopyWarning: \n",
      "A value is trying to be set on a copy of a slice from a DataFrame\n",
      "\n",
      "See the caveats in the documentation: https://pandas.pydata.org/pandas-docs/stable/user_guide/indexing.html#returning-a-view-versus-a-copy\n",
      "  query_df[\"answer\"][i] = check_answer(query_df[\"problem\"][i], query_df[\"tmp_answer\"][i], query_df[\"evidence\"][i])\n"
     ]
    },
    {
     "name": "stdout",
     "output_type": "stream",
     "text": [
      "分かりません。\n",
      "54\n"
     ]
    },
    {
     "name": "stderr",
     "output_type": "stream",
     "text": [
      "C:\\Users\\tatsu\\AppData\\Local\\Temp\\ipykernel_38828\\1369155956.py:6: SettingWithCopyWarning: \n",
      "A value is trying to be set on a copy of a slice from a DataFrame\n",
      "\n",
      "See the caveats in the documentation: https://pandas.pydata.org/pandas-docs/stable/user_guide/indexing.html#returning-a-view-versus-a-copy\n",
      "  query_df[\"answer\"][i] = check_answer(query_df[\"problem\"][i], query_df[\"tmp_answer\"][i], query_df[\"evidence\"][i])\n"
     ]
    },
    {
     "name": "stdout",
     "output_type": "stream",
     "text": [
      "分かりません。\n",
      "55\n"
     ]
    },
    {
     "name": "stderr",
     "output_type": "stream",
     "text": [
      "C:\\Users\\tatsu\\AppData\\Local\\Temp\\ipykernel_38828\\1369155956.py:6: SettingWithCopyWarning: \n",
      "A value is trying to be set on a copy of a slice from a DataFrame\n",
      "\n",
      "See the caveats in the documentation: https://pandas.pydata.org/pandas-docs/stable/user_guide/indexing.html#returning-a-view-versus-a-copy\n",
      "  query_df[\"answer\"][i] = check_answer(query_df[\"problem\"][i], query_df[\"tmp_answer\"][i], query_df[\"evidence\"][i])\n"
     ]
    },
    {
     "name": "stdout",
     "output_type": "stream",
     "text": [
      "分かりません。\n",
      "56\n"
     ]
    },
    {
     "name": "stderr",
     "output_type": "stream",
     "text": [
      "C:\\Users\\tatsu\\AppData\\Local\\Temp\\ipykernel_38828\\1369155956.py:6: SettingWithCopyWarning: \n",
      "A value is trying to be set on a copy of a slice from a DataFrame\n",
      "\n",
      "See the caveats in the documentation: https://pandas.pydata.org/pandas-docs/stable/user_guide/indexing.html#returning-a-view-versus-a-copy\n",
      "  query_df[\"answer\"][i] = check_answer(query_df[\"problem\"][i], query_df[\"tmp_answer\"][i], query_df[\"evidence\"][i])\n"
     ]
    },
    {
     "name": "stdout",
     "output_type": "stream",
     "text": [
      "分かりません。\n",
      "57\n"
     ]
    },
    {
     "name": "stderr",
     "output_type": "stream",
     "text": [
      "C:\\Users\\tatsu\\AppData\\Local\\Temp\\ipykernel_38828\\1369155956.py:6: SettingWithCopyWarning: \n",
      "A value is trying to be set on a copy of a slice from a DataFrame\n",
      "\n",
      "See the caveats in the documentation: https://pandas.pydata.org/pandas-docs/stable/user_guide/indexing.html#returning-a-view-versus-a-copy\n",
      "  query_df[\"answer\"][i] = check_answer(query_df[\"problem\"][i], query_df[\"tmp_answer\"][i], query_df[\"evidence\"][i])\n"
     ]
    },
    {
     "name": "stdout",
     "output_type": "stream",
     "text": [
      "分かりません。\n",
      "58\n"
     ]
    },
    {
     "name": "stderr",
     "output_type": "stream",
     "text": [
      "C:\\Users\\tatsu\\AppData\\Local\\Temp\\ipykernel_38828\\1369155956.py:6: SettingWithCopyWarning: \n",
      "A value is trying to be set on a copy of a slice from a DataFrame\n",
      "\n",
      "See the caveats in the documentation: https://pandas.pydata.org/pandas-docs/stable/user_guide/indexing.html#returning-a-view-versus-a-copy\n",
      "  query_df[\"answer\"][i] = check_answer(query_df[\"problem\"][i], query_df[\"tmp_answer\"][i], query_df[\"evidence\"][i])\n"
     ]
    },
    {
     "name": "stdout",
     "output_type": "stream",
     "text": [
      "分かりません。\n",
      "59\n",
      "分かりません。\n"
     ]
    },
    {
     "name": "stderr",
     "output_type": "stream",
     "text": [
      "C:\\Users\\tatsu\\AppData\\Local\\Temp\\ipykernel_38828\\1369155956.py:6: SettingWithCopyWarning: \n",
      "A value is trying to be set on a copy of a slice from a DataFrame\n",
      "\n",
      "See the caveats in the documentation: https://pandas.pydata.org/pandas-docs/stable/user_guide/indexing.html#returning-a-view-versus-a-copy\n",
      "  query_df[\"answer\"][i] = check_answer(query_df[\"problem\"][i], query_df[\"tmp_answer\"][i], query_df[\"evidence\"][i])\n"
     ]
    }
   ],
   "source": [
    "query_df = check_and_summarize_answers(query_df)"
   ]
  },
  {
   "cell_type": "code",
   "execution_count": 14,
   "metadata": {},
   "outputs": [
    {
     "data": {
      "text/html": [
       "<div>\n",
       "<style scoped>\n",
       "    .dataframe tbody tr th:only-of-type {\n",
       "        vertical-align: middle;\n",
       "    }\n",
       "\n",
       "    .dataframe tbody tr th {\n",
       "        vertical-align: top;\n",
       "    }\n",
       "\n",
       "    .dataframe thead th {\n",
       "        text-align: right;\n",
       "    }\n",
       "</style>\n",
       "<table border=\"1\" class=\"dataframe\">\n",
       "  <thead>\n",
       "    <tr style=\"text-align: right;\">\n",
       "      <th></th>\n",
       "      <th>index</th>\n",
       "      <th>problem</th>\n",
       "      <th>full_answer</th>\n",
       "      <th>tmp_answer</th>\n",
       "      <th>evidence</th>\n",
       "      <th>answer</th>\n",
       "    </tr>\n",
       "  </thead>\n",
       "  <tbody>\n",
       "    <tr>\n",
       "      <th>0</th>\n",
       "      <td>1</td>\n",
       "      <td>競漕会の三日前のレースコースでの結果は、農科と文科でどれくらいの秒数差があったか？</td>\n",
       "      <td>5秒の差がありました。</td>\n",
       "      <td>5秒の差がありました。</td>\n",
       "      <td>三 競漕の日はだんだん近づいて来る。 その一週間ほど前に学習院の競漕会があった。 それには文...</td>\n",
       "      <td>分かりません。</td>\n",
       "    </tr>\n",
       "    <tr>\n",
       "      <th>1</th>\n",
       "      <td>2</td>\n",
       "      <td>骸骨男の正体は誰ですか？作中で言及されている氏名で答えること。</td>\n",
       "      <td>笠原さんです。</td>\n",
       "      <td>笠原さんです。</td>\n",
       "      <td>「アッ、骸骨……。」 それは、あの骸骨男でした。 いつも着ているオーバーや洋服をぬいで、はだ...</td>\n",
       "      <td>分かりません。</td>\n",
       "    </tr>\n",
       "    <tr>\n",
       "      <th>2</th>\n",
       "      <td>3</td>\n",
       "      <td>骸骨男はバスの中に足跡を一切残さずにどうやって抜け出しましたか？</td>\n",
       "      <td>骸骨男は、バスの床板にあったばね仕掛けの落とし穴を使って抜け出しました。</td>\n",
       "      <td>骸骨男は、バスの床板にあったばね仕掛けの落とし穴を使って抜け出しました。</td>\n",
       "      <td>とつぶやいています。 「骸骨男がいなくなったのですか。」 井上君が、たずねます。 「うん、い...</td>\n",
       "      <td>骸骨男は、バスの床板にあったばね仕掛けの落とし穴を使って抜け出しました。</td>\n",
       "    </tr>\n",
       "    <tr>\n",
       "      <th>3</th>\n",
       "      <td>4</td>\n",
       "      <td>殺人罪で裁判にかけられた兄が登場しますが、その理由は何ですか？</td>\n",
       "      <td>若い頃、兄は恋人と心中を図り、彼女を短刀で殺害したためです。</td>\n",
       "      <td>若い頃、兄は恋人と心中を図り、彼女を短刀で殺害したためです。</td>\n",
       "      <td>そして、仏様に捧げる祈りの文句を繰り返した。 木魚の音や読経は数時間続いた。 それらが終わっ...</td>\n",
       "      <td>分かりません。</td>\n",
       "    </tr>\n",
       "    <tr>\n",
       "      <th>4</th>\n",
       "      <td>5</td>\n",
       "      <td>小説「芽生」で出てくる国名は何種類ですか？</td>\n",
       "      <td>分かりません。</td>\n",
       "      <td>分かりません。</td>\n",
       "      <td>十の一 四月あまり過ぎたり。 霜に染みたる南天の影長々と庭に臥す午後四時過ぎ、相も変わらず肥...</td>\n",
       "      <td>分かりません。</td>\n",
       "    </tr>\n",
       "    <tr>\n",
       "      <th>5</th>\n",
       "      <td>6</td>\n",
       "      <td>武男と浪子のうち、どちらが野外での楽しみをより積極的に表現していますか？</td>\n",
       "      <td>武男がより積極的に野外での楽しみを表現しています。</td>\n",
       "      <td>武男がより積極的に野外での楽しみを表現しています。</td>\n",
       "      <td>「僕は一人で歩く方が勝手だ」 これほど手強く打ち払えばいかなる強敵も退散すべしと思いきや、な...</td>\n",
       "      <td>分かりません。</td>\n",
       "    </tr>\n",
       "    <tr>\n",
       "      <th>6</th>\n",
       "      <td>7</td>\n",
       "      <td>小説「芽生」で、主人公が東京から小諸に帰る時期から、実際に引越しが完了するまでの間はだいたい...</td>\n",
       "      <td>分かりません。</td>\n",
       "      <td>分かりません。</td>\n",
       "      <td>「いいえ、ちょっとも疲れはいたしません。どうかお話し遊ばして」 茶を入れかえて、幾は次に立ち...</td>\n",
       "      <td>分かりません。</td>\n",
       "    </tr>\n",
       "    <tr>\n",
       "      <th>7</th>\n",
       "      <td>8</td>\n",
       "      <td>「競漕」の中で、文科のボート部メンバーが実際に酒を飲むシーンは何回か？</td>\n",
       "      <td>1回です。</td>\n",
       "      <td>1回です。</td>\n",
       "      <td>そしていつもよりは活気づいて艇庫に船を蔵めた。 夕飯には褒賞の意味で窪田が特別に一人約二合ほ...</td>\n",
       "      <td>分かりません。</td>\n",
       "    </tr>\n",
       "    <tr>\n",
       "      <th>8</th>\n",
       "      <td>9</td>\n",
       "      <td>文中に登場するカタカナ表記された北海道の地名を全て挙げてください。</td>\n",
       "      <td>分かりません。</td>\n",
       "      <td>分かりません。</td>\n",
       "      <td>海は実に凪げるなり。 近午の空は天心にいたるまで蒼々と晴れて雲なく、一碧の海は所々練れるよう...</td>\n",
       "      <td>分かりません。</td>\n",
       "    </tr>\n",
       "    <tr>\n",
       "      <th>9</th>\n",
       "      <td>10</td>\n",
       "      <td>兄が情死を試みた時点から、実際に死亡するまでおよそ何年経過したと考えられますか？</td>\n",
       "      <td>約七年が経過したと考えられます。</td>\n",
       "      <td>約七年が経過したと考えられます。</td>\n",
       "      <td>そして、仏様に捧げる祈りの文句を繰り返した。 木魚の音や読経は数時間続いた。 それらが終わっ...</td>\n",
       "      <td>分かりません。</td>\n",
       "    </tr>\n",
       "    <tr>\n",
       "      <th>10</th>\n",
       "      <td>11</td>\n",
       "      <td>お房が小諸を出発した日に一緒に出かけた友達は誰でしたか？</td>\n",
       "      <td>分かりません。</td>\n",
       "      <td>分かりません。</td>\n",
       "      <td>私は力を得た。 その晩、牧野君へ宛てた長い手紙を書いた。 幸にも、この手紙は私の心を友達へ伝...</td>\n",
       "      <td>分かりません。</td>\n",
       "    </tr>\n",
       "    <tr>\n",
       "      <th>11</th>\n",
       "      <td>12</td>\n",
       "      <td>サーカス団の楽屋にいるライオンの数は合計何匹ですか？</td>\n",
       "      <td>3匹です。</td>\n",
       "      <td>3匹です。</td>\n",
       "      <td>大テントの中の楽屋の隣に、動物のおりのおいてある場所があります。 おりには小さな車がついてい...</td>\n",
       "      <td>3匹です。</td>\n",
       "    </tr>\n",
       "    <tr>\n",
       "      <th>12</th>\n",
       "      <td>13</td>\n",
       "      <td>死生に関するいくつかの断想に登場する二人の兄弟のうち、より健康だったのはどちらですか？</td>\n",
       "      <td>より健康だったのは、歳下の弟で、人力車夫として一家を支えていた方です。</td>\n",
       "      <td>より健康だったのは、歳下の弟で、人力車夫として一家を支えていた方です。</td>\n",
       "      <td>江の島の方より出で来たりし白帆一つ、海面をすべり行く。 浪子は涙に曇る目に微笑を帯びて「なお...</td>\n",
       "      <td>分かりません。</td>\n",
       "    </tr>\n",
       "    <tr>\n",
       "      <th>13</th>\n",
       "      <td>14</td>\n",
       "      <td>笠原正一君が見た恐ろしい夢の内容は何ですか？</td>\n",
       "      <td>正一君は、薄暗い空から骸骨の首が豆粒のように降ってきて、それがどんどん大きくなり、頭上に落ち...</td>\n",
       "      <td>骸骨の首が降ってきて肩に食いつく恐怖の夢。</td>\n",
       "      <td>それから、二日めの、まよなかのことです。 正一少年は、おとうさんの笠原さんと、同じ部屋に、ベ...</td>\n",
       "      <td>分かりません。</td>\n",
       "    </tr>\n",
       "    <tr>\n",
       "      <th>14</th>\n",
       "      <td>15</td>\n",
       "      <td>馬に乗った骸骨男を見つけてから、明智が投げ縄をするまでに縮めた差は何メートルだと考えられますか？</td>\n",
       "      <td>分かりません。</td>\n",
       "      <td>分かりません。</td>\n",
       "      <td>両がわには大きな屋敷がならび、しいんと、しずまりかえっています。 しかし、二十メートルおきぐ...</td>\n",
       "      <td>分かりません。</td>\n",
       "    </tr>\n",
       "    <tr>\n",
       "      <th>15</th>\n",
       "      <td>16</td>\n",
       "      <td>染物屋で広げられた絹や綿の長い布に関して描写されている色を全て挙げてください。（読点区切り）</td>\n",
       "      <td>濃紺、紫、バラ色、薄青、パールグレイ。</td>\n",
       "      <td>濃紺、紫、バラ色、薄青、パールグレイ。</td>\n",
       "      <td>七月三〇日。 　南側の隣の家は――低くくて、黒ずんだ構えをした家であるが――染物屋である。 ...</td>\n",
       "      <td>濃紺、紫、バラ色、薄青、パールグレイ。</td>\n",
       "    </tr>\n",
       "    <tr>\n",
       "      <th>16</th>\n",
       "      <td>17</td>\n",
       "      <td>主人公が「最後の晩餐（ばんさん）！」と思った理由はなんですか？</td>\n",
       "      <td>分かりません。</td>\n",
       "      <td>分かりません。</td>\n",
       "      <td>「最後の晩餐！」 と、不図、私は坂の途中で鷲印のミルク罐を買いながら思った。 牛込の家には、...</td>\n",
       "      <td>分かりません。</td>\n",
       "    </tr>\n",
       "    <tr>\n",
       "      <th>17</th>\n",
       "      <td>18</td>\n",
       "      <td>少年探偵団のメンバーで捜査に協力した人々で名前が作中で言及されている人たちを全て答えてくださ...</td>\n",
       "      <td>小林、井上、野呂</td>\n",
       "      <td>小林、井上、野呂</td>\n",
       "      <td>」 中村警部は小林少年に、くどくどと、いいきかせるのでした。 小林君も、ひごろ明智先生から、...</td>\n",
       "      <td>分かりません。</td>\n",
       "    </tr>\n",
       "    <tr>\n",
       "      <th>18</th>\n",
       "      <td>19</td>\n",
       "      <td>「万右衛門」という名前は何回登場しますか？</td>\n",
       "      <td>分かりません。</td>\n",
       "      <td>分かりません。</td>\n",
       "      <td>万右衛門が「死にそうですね」と言う。</td>\n",
       "      <td>分かりません。</td>\n",
       "    </tr>\n",
       "    <tr>\n",
       "      <th>19</th>\n",
       "      <td>20</td>\n",
       "      <td>染物屋の家族が、泥棒から身を守ることができた理由は何ですか？</td>\n",
       "      <td>分かりません。</td>\n",
       "      <td>分かりません。</td>\n",
       "      <td>そして、普通のお勤めならできると言っていた。 毎日、決まった時間になると、家族全員が仏間に集...</td>\n",
       "      <td>分かりません。</td>\n",
       "    </tr>\n",
       "  </tbody>\n",
       "</table>\n",
       "</div>"
      ],
      "text/plain": [
       "    index                                            problem  \\\n",
       "0       1          競漕会の三日前のレースコースでの結果は、農科と文科でどれくらいの秒数差があったか？   \n",
       "1       2                    骸骨男の正体は誰ですか？作中で言及されている氏名で答えること。   \n",
       "2       3                   骸骨男はバスの中に足跡を一切残さずにどうやって抜け出しましたか？   \n",
       "3       4                    殺人罪で裁判にかけられた兄が登場しますが、その理由は何ですか？   \n",
       "4       5                              小説「芽生」で出てくる国名は何種類ですか？   \n",
       "5       6               武男と浪子のうち、どちらが野外での楽しみをより積極的に表現していますか？   \n",
       "6       7  小説「芽生」で、主人公が東京から小諸に帰る時期から、実際に引越しが完了するまでの間はだいたい...   \n",
       "7       8                「競漕」の中で、文科のボート部メンバーが実際に酒を飲むシーンは何回か？   \n",
       "8       9                  文中に登場するカタカナ表記された北海道の地名を全て挙げてください。   \n",
       "9      10           兄が情死を試みた時点から、実際に死亡するまでおよそ何年経過したと考えられますか？   \n",
       "10     11                       お房が小諸を出発した日に一緒に出かけた友達は誰でしたか？   \n",
       "11     12                         サーカス団の楽屋にいるライオンの数は合計何匹ですか？   \n",
       "12     13        死生に関するいくつかの断想に登場する二人の兄弟のうち、より健康だったのはどちらですか？   \n",
       "13     14                             笠原正一君が見た恐ろしい夢の内容は何ですか？   \n",
       "14     15   馬に乗った骸骨男を見つけてから、明智が投げ縄をするまでに縮めた差は何メートルだと考えられますか？   \n",
       "15     16     染物屋で広げられた絹や綿の長い布に関して描写されている色を全て挙げてください。（読点区切り）   \n",
       "16     17                    主人公が「最後の晩餐（ばんさん）！」と思った理由はなんですか？   \n",
       "17     18  少年探偵団のメンバーで捜査に協力した人々で名前が作中で言及されている人たちを全て答えてくださ...   \n",
       "18     19                              「万右衛門」という名前は何回登場しますか？   \n",
       "19     20                     染物屋の家族が、泥棒から身を守ることができた理由は何ですか？   \n",
       "\n",
       "                                          full_answer  \\\n",
       "0                                         5秒の差がありました。   \n",
       "1                                             笠原さんです。   \n",
       "2                骸骨男は、バスの床板にあったばね仕掛けの落とし穴を使って抜け出しました。   \n",
       "3                      若い頃、兄は恋人と心中を図り、彼女を短刀で殺害したためです。   \n",
       "4                                             分かりません。   \n",
       "5                           武男がより積極的に野外での楽しみを表現しています。   \n",
       "6                                             分かりません。   \n",
       "7                                               1回です。   \n",
       "8                                             分かりません。   \n",
       "9                                    約七年が経過したと考えられます。   \n",
       "10                                            分かりません。   \n",
       "11                                              3匹です。   \n",
       "12                より健康だったのは、歳下の弟で、人力車夫として一家を支えていた方です。   \n",
       "13  正一君は、薄暗い空から骸骨の首が豆粒のように降ってきて、それがどんどん大きくなり、頭上に落ち...   \n",
       "14                                            分かりません。   \n",
       "15                                濃紺、紫、バラ色、薄青、パールグレイ。   \n",
       "16                                            分かりません。   \n",
       "17                                           小林、井上、野呂   \n",
       "18                                            分かりません。   \n",
       "19                                            分かりません。   \n",
       "\n",
       "                              tmp_answer  \\\n",
       "0                            5秒の差がありました。   \n",
       "1                                笠原さんです。   \n",
       "2   骸骨男は、バスの床板にあったばね仕掛けの落とし穴を使って抜け出しました。   \n",
       "3         若い頃、兄は恋人と心中を図り、彼女を短刀で殺害したためです。   \n",
       "4                                分かりません。   \n",
       "5              武男がより積極的に野外での楽しみを表現しています。   \n",
       "6                                分かりません。   \n",
       "7                                  1回です。   \n",
       "8                                分かりません。   \n",
       "9                       約七年が経過したと考えられます。   \n",
       "10                               分かりません。   \n",
       "11                                 3匹です。   \n",
       "12   より健康だったのは、歳下の弟で、人力車夫として一家を支えていた方です。   \n",
       "13                 骸骨の首が降ってきて肩に食いつく恐怖の夢。   \n",
       "14                               分かりません。   \n",
       "15                   濃紺、紫、バラ色、薄青、パールグレイ。   \n",
       "16                               分かりません。   \n",
       "17                              小林、井上、野呂   \n",
       "18                               分かりません。   \n",
       "19                               分かりません。   \n",
       "\n",
       "                                             evidence  \\\n",
       "0   三 競漕の日はだんだん近づいて来る。 その一週間ほど前に学習院の競漕会があった。 それには文...   \n",
       "1   「アッ、骸骨……。」 それは、あの骸骨男でした。 いつも着ているオーバーや洋服をぬいで、はだ...   \n",
       "2   とつぶやいています。 「骸骨男がいなくなったのですか。」 井上君が、たずねます。 「うん、い...   \n",
       "3   そして、仏様に捧げる祈りの文句を繰り返した。 木魚の音や読経は数時間続いた。 それらが終わっ...   \n",
       "4   十の一 四月あまり過ぎたり。 霜に染みたる南天の影長々と庭に臥す午後四時過ぎ、相も変わらず肥...   \n",
       "5   「僕は一人で歩く方が勝手だ」 これほど手強く打ち払えばいかなる強敵も退散すべしと思いきや、な...   \n",
       "6   「いいえ、ちょっとも疲れはいたしません。どうかお話し遊ばして」 茶を入れかえて、幾は次に立ち...   \n",
       "7   そしていつもよりは活気づいて艇庫に船を蔵めた。 夕飯には褒賞の意味で窪田が特別に一人約二合ほ...   \n",
       "8   海は実に凪げるなり。 近午の空は天心にいたるまで蒼々と晴れて雲なく、一碧の海は所々練れるよう...   \n",
       "9   そして、仏様に捧げる祈りの文句を繰り返した。 木魚の音や読経は数時間続いた。 それらが終わっ...   \n",
       "10  私は力を得た。 その晩、牧野君へ宛てた長い手紙を書いた。 幸にも、この手紙は私の心を友達へ伝...   \n",
       "11  大テントの中の楽屋の隣に、動物のおりのおいてある場所があります。 おりには小さな車がついてい...   \n",
       "12  江の島の方より出で来たりし白帆一つ、海面をすべり行く。 浪子は涙に曇る目に微笑を帯びて「なお...   \n",
       "13  それから、二日めの、まよなかのことです。 正一少年は、おとうさんの笠原さんと、同じ部屋に、ベ...   \n",
       "14  両がわには大きな屋敷がならび、しいんと、しずまりかえっています。 しかし、二十メートルおきぐ...   \n",
       "15  七月三〇日。 　南側の隣の家は――低くくて、黒ずんだ構えをした家であるが――染物屋である。 ...   \n",
       "16  「最後の晩餐！」 と、不図、私は坂の途中で鷲印のミルク罐を買いながら思った。 牛込の家には、...   \n",
       "17  」 中村警部は小林少年に、くどくどと、いいきかせるのでした。 小林君も、ひごろ明智先生から、...   \n",
       "18                                 万右衛門が「死にそうですね」と言う。   \n",
       "19  そして、普通のお勤めならできると言っていた。 毎日、決まった時間になると、家族全員が仏間に集...   \n",
       "\n",
       "                                  answer  \n",
       "0                                分かりません。  \n",
       "1                                分かりません。  \n",
       "2   骸骨男は、バスの床板にあったばね仕掛けの落とし穴を使って抜け出しました。  \n",
       "3                                分かりません。  \n",
       "4                                分かりません。  \n",
       "5                                分かりません。  \n",
       "6                                分かりません。  \n",
       "7                                分かりません。  \n",
       "8                                分かりません。  \n",
       "9                                分かりません。  \n",
       "10                               分かりません。  \n",
       "11                                 3匹です。  \n",
       "12                               分かりません。  \n",
       "13                               分かりません。  \n",
       "14                               分かりません。  \n",
       "15                   濃紺、紫、バラ色、薄青、パールグレイ。  \n",
       "16                               分かりません。  \n",
       "17                               分かりません。  \n",
       "18                               分かりません。  \n",
       "19                               分かりません。  "
      ]
     },
     "execution_count": 14,
     "metadata": {},
     "output_type": "execute_result"
    }
   ],
   "source": [
    "query_df.head(20)"
   ]
  },
  {
   "cell_type": "code",
   "execution_count": 44,
   "metadata": {},
   "outputs": [],
   "source": [
    "# 必要な列（id, answer, evidence）をヘッダなしでCSVに書き出し\n",
    "query_df[['index', 'answer', 'evidence']].to_csv(\n",
    "    \"../submit/predictions.csv\",\n",
    "    index=False,\n",
    "    header=False,\n",
    "    encoding=\"utf-8-sig\"\n",
    ")"
   ]
  },
  {
   "cell_type": "code",
   "execution_count": 45,
   "metadata": {},
   "outputs": [],
   "source": [
    "# backup\n",
    "dt_now = datetime.datetime.now()\n",
    "ymdm = dt_now.strftime(\"%Y%m%d-%H%M\")\n",
    "\n",
    "query_df[['index', 'problem', 'full_answer', 'answer', 'evidence']].to_csv(\n",
    "    f\"../submit/{ymdm}_predictions.csv\",\n",
    "    index=False,\n",
    "    header=True,\n",
    "    encoding=\"utf-8-sig\"\n",
    ")"
   ]
  },
  {
   "cell_type": "code",
   "execution_count": null,
   "metadata": {},
   "outputs": [],
   "source": []
  }
 ],
 "metadata": {
  "kernelspec": {
   "display_name": "Test_LLM",
   "language": "python",
   "name": "python3"
  },
  "language_info": {
   "codemirror_mode": {
    "name": "ipython",
    "version": 3
   },
   "file_extension": ".py",
   "mimetype": "text/x-python",
   "name": "python",
   "nbconvert_exporter": "python",
   "pygments_lexer": "ipython3",
   "version": "3.10.11"
  }
 },
 "nbformat": 4,
 "nbformat_minor": 2
}
